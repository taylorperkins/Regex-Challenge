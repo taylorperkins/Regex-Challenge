{
 "cells": [
  {
   "cell_type": "markdown",
   "metadata": {},
   "source": [
    "## REGEX 101\n",
    "[Here](https://www.rexegg.com/) is a great resource for anyone that wants to did further into the black hole that is regular expressions..\n",
    "And [here](https://pythex.org) is a great site for testing out your regular expressions.. \n",
    "Esp dealing with python.\n",
    "\n",
    "And [here](https://docs.python.org/3.4/library/re.html), of course, is the actual documentation."
   ]
  },
  {
   "cell_type": "markdown",
   "metadata": {},
   "source": [
    "Rather than teaching all the ways to use regex.. I will bring in some test samples to try and match!"
   ]
  },
  {
   "cell_type": "markdown",
   "metadata": {},
   "source": [
    "### Don't worry about these too much. Just know they are helping!"
   ]
  },
  {
   "cell_type": "code",
   "execution_count": 1,
   "metadata": {},
   "outputs": [],
   "source": [
    "from utils import (\n",
    "    findall, \n",
    "    match,\n",
    "    search,\n",
    "    check_matches)"
   ]
  },
  {
   "cell_type": "markdown",
   "metadata": {},
   "source": [
    "First.. \n",
    "Let's look at some different ways you can go about matching."
   ]
  },
  {
   "cell_type": "code",
   "execution_count": 2,
   "metadata": {},
   "outputs": [
    {
     "name": "stdout",
     "output_type": "stream",
     "text": [
      "findall..\n",
      "1\n",
      "2\n",
      "3\n",
      "\n",
      "match..\n",
      "None\n",
      "\n",
      "search..\n",
      "1\n"
     ]
    }
   ],
   "source": [
    "text = \"Here is some sample 1 text with 2 numbers 3!\"\n",
    "r = r\"\\d\"\n",
    "\n",
    "# Notice that you can iterate over the answers with this one.\n",
    "print('findall..')\n",
    "for val in findall(r, text):\n",
    "    print(val)\n",
    "    \n",
    "   \n",
    "# For the next two.. You capture the match, then test to see if it exists.\n",
    "print('\\nmatch..')\n",
    "m = match(r, text)\n",
    "print(m.group() if m else None)\n",
    "\n",
    "print('\\nsearch..')\n",
    "m = search(r, text)\n",
    "print(m.group() if m else None)"
   ]
  },
  {
   "cell_type": "markdown",
   "metadata": {},
   "source": [
    "### With python.. You have the ability to add in comments to your regex to make them easier to read."
   ]
  },
  {
   "cell_type": "code",
   "execution_count": 3,
   "metadata": {},
   "outputs": [
    {
     "data": {
      "text/plain": [
       "'3'"
      ]
     },
     "execution_count": 3,
     "metadata": {},
     "output_type": "execute_result"
    }
   ],
   "source": [
    "# Let's try to find one for match just for fun.. Remember that we need to start at the beginning of the string!\n",
    "match(r\"\"\"\n",
    "      [\\w\\s]+             # match all words or spaces\n",
    "      (?P<digit>[0-9])    # group the LAST digit, and give it a name\n",
    "      .*                  # everything after (!)\"\"\", \n",
    "      text)\\\n",
    "    .group('digit')\n",
    "\n",
    "# NOTE: It stretched as far as it could before returning the number.. "
   ]
  },
  {
   "cell_type": "markdown",
   "metadata": {},
   "source": [
    "General syntax is as follows: \n",
    "\n",
    "```python\n",
    "pattern = re.compile(r\"<regex_pattern>\")   # define your pattern, optionally pass in flags!\n",
    "matches = re.<match_func>(pattern, string)\n",
    "\n",
    "# validate here to see if you found anything with an if statement. \n",
    "# if you found something.. the match will be \"truthy\"\n",
    "if matches:\n",
    "    print(matches.group(<name_of_group>))\n",
    "```"
   ]
  },
  {
   "cell_type": "markdown",
   "metadata": {},
   "source": [
    "Now you try!!!"
   ]
  },
  {
   "cell_type": "markdown",
   "metadata": {},
   "source": [
    "### Extract `12 years old`"
   ]
  },
  {
   "cell_type": "code",
   "execution_count": 4,
   "metadata": {},
   "outputs": [],
   "source": [
    "text = \"The boy is 12 years old\""
   ]
  },
  {
   "cell_type": "markdown",
   "metadata": {},
   "source": [
    "### Extract BOTH `12 years old` and `8 years old`"
   ]
  },
  {
   "cell_type": "code",
   "execution_count": 5,
   "metadata": {},
   "outputs": [],
   "source": [
    "text = \"The boy is 12 years old. The girl is 8 years old.\""
   ]
  },
  {
   "cell_type": "markdown",
   "metadata": {},
   "source": [
    "### Capture 2 groups: `quantity` and `date_type`\n",
    "Iterate over the different groups and print them out."
   ]
  },
  {
   "cell_type": "code",
   "execution_count": 6,
   "metadata": {},
   "outputs": [],
   "source": [
    "text = \"The boy is 12 years old. The girl is 96 months old.\""
   ]
  },
  {
   "cell_type": "markdown",
   "metadata": {},
   "source": [
    "## Some helpful tips!!\n",
    "\n",
    "* `.*` -- `.` matches any character, while `*` means zero or more, and is \"greedy\". This is a catch all for \"everything\"\n",
    "* `+` -- One or more\n",
    "* `{1}` or `{1, 2}` -- Specify exactly how many times, or a range of times\n",
    "* `?` -- Once or none\n",
    "* `( ... )` -- Is a capture group\n",
    "* `(?: ... )` -- A group.. But no capture\n",
    "* `|` -- _or_ operator\n",
    "* `^` -- _not_, or the start of a line\n",
    "* `$` -- the end of a line"
   ]
  },
  {
   "cell_type": "markdown",
   "metadata": {},
   "source": [
    "### Lets play a game!!\n",
    "Acording to [this article](https://www.mattcutts.com/blog/seo-glossary-url-definitions/), the url is made up of many parts..\n",
    "Lets create a regular expression that appropriately captures the different parts. "
   ]
  },
  {
   "cell_type": "markdown",
   "metadata": {},
   "source": [
    "### URL to test against"
   ]
  },
  {
   "cell_type": "code",
   "execution_count": 7,
   "metadata": {},
   "outputs": [],
   "source": [
    "url = \"http://video.google.co.uk:80/videoplay?docid=-7246927612831078230&hl=en#00h02m30s\""
   ]
  },
  {
   "cell_type": "markdown",
   "metadata": {},
   "source": [
    "Part definitions: \n",
    "\n",
    "* The `protocol` is http. Other protocols include https, ftp, etc.\n",
    "* The `host` or hostname is video.google.co.uk.\n",
    "* The `subdomain` is video.\n",
    "* The `domain` name is google.co.uk.\n",
    "* The `top-level domain` or TLD is uk. The uk domain is also referred to as a country-code top-level domain or ccTLD. For google.com, the TLD would be com.\n",
    "* The `second-level domain` (SLD) is co.uk.\n",
    "* The `port` is 80, which is the default port for web servers. Other ports are possible; a web server can listen on port 8000, for example. When the port is 80, most people leave out the port.\n",
    "* The `path` is /videoplay. Path typically refers to a file or location on the web server, e.g. /directory/file.html\n",
    "* This URL has `parameters`. The name of one parameter is docid and the value of that parameter is -7246927612831078230. URLs can have lots parameters. Parameters start with a question mark _(?)_ and are separated with an ampersand _(&)_.\n",
    "* See the “#00h02m30s”? That’s called a `fragment` or a named anchor. The Googlers I’ve talked to are split right down the middle on which way to refer it. Disputes on what to call it can be settled with arm wrestling, dance-offs, or drinking contests. 🙂 Typically the fragment is used to refer to an internal section within a web document. In this case, the named anchor means “skip to 2 minutes and 30 seconds into the video.” I think right now Google standardizes urls by removing any fragments from the url.\n",
    "\n",
    "So.. \n",
    "We are tryign to capture 10 different groups. \n",
    "Let's try breaking this down."
   ]
  },
  {
   "cell_type": "markdown",
   "metadata": {},
   "source": [
    "Based on the definitions above.. \n",
    "We have some good guidlines to write our expressions."
   ]
  },
  {
   "cell_type": "markdown",
   "metadata": {},
   "source": [
    "### RULES\n",
    "\n",
    "> Based on the definitions above.. \n",
    "Create a _SINGLE_ regular expression that captures _ALL_ of the different groups separately.\n",
    "I have created an expression for `protocol`. \n",
    "Continue to build off of this until you have them all completed."
   ]
  },
  {
   "cell_type": "code",
   "execution_count": 8,
   "metadata": {},
   "outputs": [
    {
     "name": "stdout",
     "output_type": "stream",
     "text": [
      "Target:              'http://video.google.co.uk:80/videoplay?docid=-7246927612831078230&hl=en#00h02m30s'\n",
      "\n",
      "protocol:            'http'\n"
     ]
    }
   ],
   "source": [
    "# start at the beginning.. and capture the http only.\n",
    "# Wrapping it in () specifies that it is a group!\n",
    "pattern = r\"\"\"\n",
    "\n",
    "    ^                      # start of string\n",
    "    (?P<protocol>http)     # protocol group with name\n",
    "\n",
    "\"\"\"\n",
    "\n",
    "print(f\"{'Target:': <20} '{url}'\\n\")\n",
    "check_matches(\n",
    "    pattern, \n",
    "    url, \n",
    "    [\n",
    "        'protocol'])"
   ]
  },
  {
   "cell_type": "markdown",
   "metadata": {},
   "source": [
    "Next.. \n",
    "We are moving into into the host.. \n",
    "Which is basically everything after the `http://` and before the port `:80`"
   ]
  },
  {
   "cell_type": "code",
   "execution_count": 9,
   "metadata": {},
   "outputs": [
    {
     "name": "stdout",
     "output_type": "stream",
     "text": [
      "Target:              'http://video.google.co.uk:80/videoplay?docid=-7246927612831078230&hl=en#00h02m30s'\n",
      "\n",
      "protocol:            'http'\n",
      "host:                'video.google.co.uk'\n"
     ]
    }
   ],
   "source": [
    "pattern = r\"\"\"\n",
    "\n",
    "    ^                        # start of string\n",
    "    (?P<protocol>http)       # the actual protocol\n",
    "    ://                      # the part following the protocol\n",
    "    (?P<host>.*)             # the group we want.. Captures everything\n",
    "    :                        # specifies the end of this section. No group\n",
    "\n",
    "\"\"\"\n",
    "\n",
    "print(f\"{'Target:': <20} '{url}'\\n\")\n",
    "check_matches(\n",
    "    pattern, \n",
    "    url, \n",
    "    [\n",
    "        'protocol',\n",
    "        'host'])"
   ]
  },
  {
   "cell_type": "markdown",
   "metadata": {},
   "source": [
    "Subdomain!\n",
    "This one is a little tricky, because the subdomain is a part of the host.\n",
    "We will need to add a group.. Within the group!"
   ]
  },
  {
   "cell_type": "code",
   "execution_count": 10,
   "metadata": {},
   "outputs": [
    {
     "name": "stdout",
     "output_type": "stream",
     "text": [
      "Target:              'http://video.google.co.uk:80/videoplay?docid=-7246927612831078230&hl=en#00h02m30s'\n",
      "\n",
      "protocol:            'http'\n",
      "host:                'video.google.co.uk'\n",
      "subdomain:           'video'\n"
     ]
    }
   ],
   "source": [
    "pattern = r\"\"\"\n",
    "\n",
    "    ^                      # start of string\n",
    "    (?P<protocol>http)     # the actual protocol\n",
    "    ://                    # the part following the protocol\n",
    "    (?P<host>              # specify the start of a group.. The host!\n",
    "        (?P<subdomain>\\w+) # specify a new group, subdomain.. The first word `+` is greedy!\n",
    "        \\.                 # says there is a period\n",
    "        .*                 # everything else\n",
    "    )                      # end host group\n",
    "    :                      # specifies the end of this section. No group\n",
    "\n",
    "\"\"\"\n",
    "\n",
    "print(f\"{'Target:': <20} '{url}'\\n\")\n",
    "check_matches(\n",
    "    pattern, \n",
    "    url, \n",
    "    [\n",
    "        'protocol', \n",
    "        'host', \n",
    "        'subdomain'])"
   ]
  },
  {
   "cell_type": "markdown",
   "metadata": {},
   "source": [
    "Domain! Again.. This is a nested group. Should be pretty straightforward though!"
   ]
  },
  {
   "cell_type": "code",
   "execution_count": 11,
   "metadata": {},
   "outputs": [
    {
     "name": "stdout",
     "output_type": "stream",
     "text": [
      "Target:              'http://video.google.co.uk:80/videoplay?docid=-7246927612831078230&hl=en#00h02m30s'\n",
      "\n",
      "protocol:            'http'\n",
      "host:                'video.google.co.uk'\n",
      "subdomain:           'video'\n",
      "domain:              'google.co.uk'\n"
     ]
    }
   ],
   "source": [
    "pattern = r\"\"\"\n",
    "\n",
    "    ^                        # start of string\n",
    "    (?P<protocol>http)       # the actual protocol\n",
    "    ://                      # the part following the protocol\n",
    "    (?P<host>                # specify the start of a group.. The host!\n",
    "        (?P<subdomain>\\w+)   # specify a new group, subdomain.. The first word `+` is greedy!\n",
    "        \\.                   # says there is a period\n",
    "        (?P<domain>.*)       # THIS IS WHAT CHANGED!! Easy peasy \n",
    "    )                        # end host group\n",
    "    :                        # specifies the end of this section. No group\n",
    "\n",
    "\"\"\"\n",
    "\n",
    "print(f\"{'Target:': <20} '{url}'\\n\")\n",
    "check_matches(\n",
    "    pattern, \n",
    "    url, \n",
    "    [\n",
    "        'protocol', \n",
    "        'host', \n",
    "        'subdomain', \n",
    "        'domain'])"
   ]
  },
  {
   "cell_type": "markdown",
   "metadata": {},
   "source": [
    "top-level domain. \n",
    "We've been doing this all along!"
   ]
  },
  {
   "cell_type": "code",
   "execution_count": 12,
   "metadata": {},
   "outputs": [
    {
     "name": "stdout",
     "output_type": "stream",
     "text": [
      "Target:              'http://video.google.co.uk:80/videoplay?docid=-7246927612831078230&hl=en#00h02m30s'\n",
      "\n",
      "protocol:            'http'\n",
      "host:                'video.google.co.uk'\n",
      "subdomain:           'video'\n",
      "domain:              'google.co.uk'\n",
      "top_level_domain:    'uk'\n"
     ]
    }
   ],
   "source": [
    "pattern = r\"\"\"\n",
    "\n",
    "    ^                                   # start of string\n",
    "    (?P<protocol>http)                  # the actual protocol\n",
    "    ://                                 # the part following the protocol\n",
    "    (?P<host>                           # specify the start of a group.. The host!\n",
    "        (?P<subdomain>\\w+)              # specify a new group, subdomain.. The first word `+` is greedy!\n",
    "        \\.                              # says there is a period\n",
    "        (?P<domain>                     # Start of the domain group!\n",
    "            \\w+\\.\\w+\\.                  # There is a word.. period.. word.. period..\n",
    "            (?P<top_level_domain>\\w+)   # and our top-level domain!\n",
    "        )                               # Close domain\n",
    "    )                                   # Close host\n",
    "    :                                   # specifies the end of this section. No group\n",
    "\n",
    "\"\"\"\n",
    "\n",
    "print(f\"{'Target:': <20} '{url}'\\n\")\n",
    "check_matches(\n",
    "    pattern, \n",
    "    url, \n",
    "    [\n",
    "        'protocol', \n",
    "        'host', \n",
    "        'subdomain', \n",
    "        'domain', \n",
    "        'top_level_domain'])"
   ]
  },
  {
   "cell_type": "markdown",
   "metadata": {},
   "source": [
    "Second level domain.. \n",
    "Yet another nest!"
   ]
  },
  {
   "cell_type": "code",
   "execution_count": 13,
   "metadata": {},
   "outputs": [
    {
     "name": "stdout",
     "output_type": "stream",
     "text": [
      "Target:              'http://video.google.co.uk:80/videoplay?docid=-7246927612831078230&hl=en#00h02m30s'\n",
      "\n",
      "Notice the flip in order between top and second level domains!\n",
      "\n",
      "protocol:            'http'\n",
      "host:                'video.google.co.uk'\n",
      "subdomain:           'video'\n",
      "domain:              'google.co.uk'\n",
      "second_level_domain: 'co.uk'\n",
      "top_level_domain:    'uk'\n"
     ]
    }
   ],
   "source": [
    "pattern = r\"\"\"\n",
    "\n",
    "    ^                   # start of string\n",
    "    (?P<protocol>http)              # the actual protocol\n",
    "    ://                 # the part following the protocol\n",
    "    (?P<host>                   # specify the start of a group.. The host!\n",
    "        (?P<subdomain>\\w+)           # specify a new group, subdomain.. The first word `+` is greedy!\n",
    "        \\.              # says there is a period\n",
    "        (?P<domain>               # Start of the domain group!\n",
    "            \\w+\\.       # `google.`\n",
    "            (?P<second_level_domain>           # Start of the second level domain\n",
    "                \\w+\\.   # `co.`\n",
    "                (?P<top_level_domain>\\w+)   # and our top-level domain!\n",
    "            )           # Close second-level domain\n",
    "        )               # Close domain\n",
    "    )                   # Close host\n",
    "    :                   # specifies the end of this section. No group\n",
    "\n",
    "\"\"\"\n",
    "\n",
    "print(f\"{'Target:': <20} '{url}'\\n\")\n",
    "print('Notice the flip in order between top and second level domains!\\n')\n",
    "check_matches(\n",
    "    pattern, \n",
    "    url, \n",
    "    [\n",
    "        'protocol', \n",
    "        'host', \n",
    "        'subdomain', \n",
    "        'domain', \n",
    "        'second_level_domain',\n",
    "        'top_level_domain'])"
   ]
  },
  {
   "cell_type": "markdown",
   "metadata": {},
   "source": [
    "Finally we can get out of those nests!! The port should be easy :) "
   ]
  },
  {
   "cell_type": "code",
   "execution_count": 14,
   "metadata": {},
   "outputs": [
    {
     "name": "stdout",
     "output_type": "stream",
     "text": [
      "Target:              'http://video.google.co.uk:80/videoplay?docid=-7246927612831078230&hl=en#00h02m30s'\n",
      "\n",
      "protocol:            'http'\n",
      "host:                'video.google.co.uk'\n",
      "subdomain:           'video'\n",
      "domain:              'google.co.uk'\n",
      "second_level_domain: 'co.uk'\n",
      "top_level_domain:    'uk'\n",
      "port:                '80'\n"
     ]
    }
   ],
   "source": [
    "pattern = r\"\"\"\n",
    "\n",
    "    ^                                       # start of string\n",
    "    (?P<protocol>http)                      # the actual protocol\n",
    "    ://                                     # the part following the protocol\n",
    "    (?P<host>                               # specify the start of a group.. The host!\n",
    "        (?P<subdomain>\\w+)                  # specify a new group, subdomain.. The first word `+` is greedy!\n",
    "        \\.                                  # says there is a period\n",
    "        (?P<domain>                         # Start of the domain group!\n",
    "            \\w+\\.                           # `google.`\n",
    "            (?P<second_level_domain>        # Start of the second level domain\n",
    "                \\w+\\.                       # `co.`\n",
    "                (?P<top_level_domain>\\w+)   # and our top-level domain!\n",
    "            )                               # Close second-level domain\n",
    "        )                                   # Close domain\n",
    "    )                                       # Close host\n",
    "    :                                       # specifies the end of this section. No group\n",
    "    (?P<port>\\d+)                           # Port group!\n",
    "\n",
    "\"\"\"\n",
    "\n",
    "print(f\"{'Target:': <20} '{url}'\\n\")\n",
    "check_matches(\n",
    "    pattern, \n",
    "    url, \n",
    "    [\n",
    "        'protocol', \n",
    "        'host', \n",
    "        'subdomain', \n",
    "        'domain', \n",
    "        'second_level_domain',\n",
    "        'top_level_domain',\n",
    "        'port'])"
   ]
  },
  {
   "cell_type": "code",
   "execution_count": 15,
   "metadata": {},
   "outputs": [
    {
     "name": "stdout",
     "output_type": "stream",
     "text": [
      "Target:              'http://video.google.co.uk:80/videoplay?docid=-7246927612831078230&hl=en#00h02m30s'\n",
      "\n",
      "protocol:            'http'\n",
      "host:                'video.google.co.uk'\n",
      "subdomain:           'video'\n",
      "domain:              'google.co.uk'\n",
      "second_level_domain: 'co.uk'\n",
      "top_level_domain:    'uk'\n",
      "port:                '80'\n",
      "path:                '/videoplay'\n"
     ]
    }
   ],
   "source": [
    "pattern = r\"\"\"\n",
    "\n",
    "    ^                                       # start of string\n",
    "    (?P<protocol>http)                      # the actual protocol\n",
    "    ://                                     # the part following the protocol\n",
    "    (?P<host>                               # specify the start of a group.. The host!\n",
    "        (?P<subdomain>\\w+)                  # specify a new group, subdomain.. The first word `+` is greedy!\n",
    "        \\.                                  # says there is a period\n",
    "        (?P<domain>                         # Start of the domain group!\n",
    "            \\w+\\.                           # `google.`\n",
    "            (?P<second_level_domain>        # Start of the second level domain\n",
    "                \\w+\\.                       # `co.`\n",
    "                (?P<top_level_domain>\\w+)   # and our top-level domain!\n",
    "            )                               # Close second-level domain\n",
    "        )                                   # Close domain\n",
    "    )                                       # Close host\n",
    "    :                                       # specifies the end of this section. No group\n",
    "    (?P<port>\\d+)                           # Port group!\n",
    "    (?P<path>/\\w+)                          # Path group!\n",
    "\n",
    "\"\"\"\n",
    "\n",
    "print(f\"{'Target:': <20} '{url}'\\n\")\n",
    "check_matches(\n",
    "    pattern, \n",
    "    url, \n",
    "    [\n",
    "        'protocol', \n",
    "        'host', \n",
    "        'subdomain', \n",
    "        'domain', \n",
    "        'second_level_domain',\n",
    "        'top_level_domain',\n",
    "        'port',\n",
    "        'path'])"
   ]
  },
  {
   "cell_type": "markdown",
   "metadata": {},
   "source": [
    "Parameters! These can be tricky since there can be one, many, or none of them. "
   ]
  },
  {
   "cell_type": "code",
   "execution_count": 17,
   "metadata": {},
   "outputs": [
    {
     "name": "stdout",
     "output_type": "stream",
     "text": [
      "Target:              'http://video.google.co.uk:80/videoplay?docid=-7246927612831078230&hl=en#00h02m30s'\n",
      "\n",
      "protocol:            'http'\n",
      "host:                'video.google.co.uk'\n",
      "subdomain:           'video'\n",
      "domain:              'google.co.uk'\n",
      "second_level_domain: 'co.uk'\n",
      "top_level_domain:    'uk'\n",
      "port:                '80'\n",
      "path:                '/videoplay'\n"
     ]
    },
    {
     "ename": "IncorrectMatchError",
     "evalue": "\n                Sorry, but the match is incorrect. \n                Please try again.\n                Got docid=, expected ?docid=-7246927612831078230&hl=en",
     "output_type": "error",
     "traceback": [
      "\u001b[0;31m---------------------------------------------------------------------------\u001b[0m",
      "\u001b[0;31mAssertionError\u001b[0m                            Traceback (most recent call last)",
      "\u001b[0;32m~/personals/projects/regex-howto/utils.py\u001b[0m in \u001b[0;36mcheck_matches\u001b[0;34m(exp, text, group_labels)\u001b[0m\n\u001b[1;32m     71\u001b[0m         \u001b[0;32mtry\u001b[0m\u001b[0;34m:\u001b[0m\u001b[0;34m\u001b[0m\u001b[0;34m\u001b[0m\u001b[0m\n\u001b[0;32m---> 72\u001b[0;31m             \u001b[0;32massert\u001b[0m \u001b[0mvalue\u001b[0m \u001b[0;34m==\u001b[0m \u001b[0mEXPECTED\u001b[0m\u001b[0;34m[\u001b[0m\u001b[0mkey\u001b[0m\u001b[0;34m]\u001b[0m\u001b[0;34m\u001b[0m\u001b[0;34m\u001b[0m\u001b[0m\n\u001b[0m\u001b[1;32m     73\u001b[0m \u001b[0;34m\u001b[0m\u001b[0m\n",
      "\u001b[0;31mAssertionError\u001b[0m: ",
      "\nDuring handling of the above exception, another exception occurred:\n",
      "\u001b[0;31mIncorrectMatchError\u001b[0m                       Traceback (most recent call last)",
      "\u001b[0;32m<ipython-input-17-891cca98d188>\u001b[0m in \u001b[0;36m<module>\u001b[0;34m\u001b[0m\n\u001b[1;32m     42\u001b[0m         \u001b[0;34m'path'\u001b[0m\u001b[0;34m,\u001b[0m\u001b[0;34m\u001b[0m\u001b[0;34m\u001b[0m\u001b[0m\n\u001b[1;32m     43\u001b[0m         \u001b[0;34m'parameters'\u001b[0m\u001b[0;34m,\u001b[0m\u001b[0;34m\u001b[0m\u001b[0;34m\u001b[0m\u001b[0m\n\u001b[0;32m---> 44\u001b[0;31m         'fragment'])\n\u001b[0m",
      "\u001b[0;32m~/personals/projects/regex-howto/utils.py\u001b[0m in \u001b[0;36mcheck_matches\u001b[0;34m(exp, text, group_labels)\u001b[0m\n\u001b[1;32m     76\u001b[0m                 \u001b[0mSorry\u001b[0m\u001b[0;34m,\u001b[0m \u001b[0mbut\u001b[0m \u001b[0mthe\u001b[0m \u001b[0mmatch\u001b[0m \u001b[0;32mis\u001b[0m \u001b[0mincorrect\u001b[0m\u001b[0;34m.\u001b[0m\u001b[0;34m\u001b[0m\u001b[0;34m\u001b[0m\u001b[0m\n\u001b[1;32m     77\u001b[0m                 \u001b[0mPlease\u001b[0m \u001b[0;32mtry\u001b[0m \u001b[0magain\u001b[0m\u001b[0;34m.\u001b[0m\u001b[0;34m\u001b[0m\u001b[0;34m\u001b[0m\u001b[0m\n\u001b[0;32m---> 78\u001b[0;31m                 Got {value}, expected {EXPECTED[key]}\"\"\")\n\u001b[0m\u001b[1;32m     79\u001b[0m \u001b[0;34m\u001b[0m\u001b[0m\n\u001b[1;32m     80\u001b[0m         \u001b[0mprint\u001b[0m\u001b[0;34m(\u001b[0m\u001b[0;34mf\"{key + ':': <20} '{value}'\"\u001b[0m\u001b[0;34m)\u001b[0m\u001b[0;34m\u001b[0m\u001b[0;34m\u001b[0m\u001b[0m\n",
      "\u001b[0;31mIncorrectMatchError\u001b[0m: \n                Sorry, but the match is incorrect. \n                Please try again.\n                Got docid=, expected ?docid=-7246927612831078230&hl=en"
     ]
    }
   ],
   "source": [
    "pattern = r\"\"\"\n",
    "\n",
    "    ^                                       # start of string\n",
    "    (?P<protocol>http)                      # the actual protocol\n",
    "    ://                                     # the part following the protocol\n",
    "    (?P<host>                               # specify the start of a group.. The host!\n",
    "        (?P<subdomain>\\w+)                  # specify a new group, subdomain.. The first word `+` is greedy!\n",
    "        \\.                                  # says there is a period\n",
    "        (?P<domain>                         # Start of the domain group!\n",
    "            \\w+\\.                           # `google.`\n",
    "            (?P<second_level_domain>        # Start of the second level domain\n",
    "                \\w+\\.                       # `co.`\n",
    "                (?P<top_level_domain>\\w+)   # and our top-level domain!\n",
    "            )                               # Close second-level domain\n",
    "        )                                   # Close domain\n",
    "    )                                       # Close host\n",
    "    :                                       # specifies the end of this section. No group\n",
    "    (?P<port>\\d+)                           # Port group!\n",
    "    (?P<path>/\\w+)                           # Path group!\n",
    "    (?:\\?\n",
    "        (?P<parameters>[a-zA-Z1-9,&=]+)     # Paramenters can include any of these characters\n",
    "    )?                                      # and specifiy that it's optional\n",
    "    (?P<fragment>.*)                        # catch all at the end for fragment\n",
    "    $                                       # end of string\n",
    "\n",
    "\"\"\"\n",
    "\n",
    "urls = 'http://video.google.co.uk:80/videoplay#123'\n",
    "\n",
    "print(f\"{'Target:': <20} '{url}'\\n\")\n",
    "check_matches(\n",
    "    pattern, \n",
    "    url, \n",
    "    [\n",
    "        'protocol', \n",
    "        'host', \n",
    "        'subdomain', \n",
    "        'domain', \n",
    "        'second_level_domain',\n",
    "        'top_level_domain',\n",
    "        'port',\n",
    "        'path',\n",
    "        'parameters',\n",
    "        'fragment'])"
   ]
  },
  {
   "cell_type": "code",
   "execution_count": null,
   "metadata": {},
   "outputs": [],
   "source": []
  }
 ],
 "metadata": {
  "kernelspec": {
   "display_name": "Python 3",
   "language": "python",
   "name": "python3"
  },
  "language_info": {
   "codemirror_mode": {
    "name": "ipython",
    "version": 3
   },
   "file_extension": ".py",
   "mimetype": "text/x-python",
   "name": "python",
   "nbconvert_exporter": "python",
   "pygments_lexer": "ipython3",
   "version": "3.7.2"
  }
 },
 "nbformat": 4,
 "nbformat_minor": 2
}
